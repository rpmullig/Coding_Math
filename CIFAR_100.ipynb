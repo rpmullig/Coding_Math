{
  "nbformat": 4,
  "nbformat_minor": 0,
  "metadata": {
    "colab": {
      "name": "CIFAR-100.ipynb",
      "provenance": [],
      "collapsed_sections": [],
      "machine_shape": "hm",
      "authorship_tag": "ABX9TyMUCpoMhoQYIf/7OTsCdOQJ",
      "include_colab_link": true
    },
    "kernelspec": {
      "name": "python3",
      "display_name": "Python 3"
    },
    "accelerator": "TPU"
  },
  "cells": [
    {
      "cell_type": "markdown",
      "metadata": {
        "id": "view-in-github",
        "colab_type": "text"
      },
      "source": [
        "<a href=\"https://colab.research.google.com/github/rpmullig/Coding_Math/blob/master/CIFAR_100.ipynb\" target=\"_parent\"><img src=\"https://colab.research.google.com/assets/colab-badge.svg\" alt=\"Open In Colab\"/></a>"
      ]
    },
    {
      "cell_type": "code",
      "metadata": {
        "id": "p2KzWN8aRbBJ",
        "colab_type": "code",
        "colab": {
          "base_uri": "https://localhost:8080/",
          "height": 102
        },
        "outputId": "962279a1-c821-43ec-8ed3-a208c6b15544"
      },
      "source": [
        "import sys\n",
        "\n",
        "# Confirm that we're using Python 3\n",
        "assert sys.version_info.major is 3, 'Oops, not running Python 3. Use Runtime > Change runtime type'\n",
        "\n",
        "print(\"Installing dependencies for Colab environment\")\n",
        "!pip install -Uq grpcio==1.26.0\n",
        "\n",
        "import tensorflow as tf\n",
        "from tensorflow import keras\n",
        "\n",
        "# Helper libraries\n",
        "import numpy as np\n",
        "import matplotlib.pyplot as plt\n",
        "import os\n",
        "import subprocess\n",
        "\n",
        "print('TensorFlow version: {}'.format(tf.__version__))\n",
        "\n",
        "\n",
        "cifar100 = tf.keras.datasets.cifar100\n",
        "\n",
        "(train_images, train_labels), (test_images, test_labels) = cifar100.load_data(label_mode='fine')\n",
        "\n",
        "# scale the values to 0.0 to 1.0\n",
        "train_images = train_images / 255.0\n",
        "test_images = test_images / 255.0\n",
        "\n",
        "# reshape for feeding into the model\n",
        "train_images = train_images.reshape(train_images.shape[0], 32, 32, 3)\n",
        "test_images = test_images.reshape(test_images.shape[0], 32, 32, 3)\n",
        "\n",
        "print('\\ntrain_images.shape: {}, of {}'.format(train_images.shape, train_images.dtype))\n",
        "print('test_images.shape: {}, of {}'.format(test_images.shape, test_images.dtype))"
      ],
      "execution_count": 1,
      "outputs": [
        {
          "output_type": "stream",
          "text": [
            "Installing dependencies for Colab environment\n",
            "TensorFlow version: 2.2.0\n",
            "\n",
            "train_images.shape: (50000, 32, 32, 3), of float64\n",
            "test_images.shape: (10000, 32, 32, 3), of float64\n"
          ],
          "name": "stdout"
        }
      ]
    },
    {
      "cell_type": "code",
      "metadata": {
        "id": "bKLeGyAIUiZ7",
        "colab_type": "code",
        "colab": {
          "base_uri": "https://localhost:8080/",
          "height": 1000
        },
        "outputId": "7f22eefa-2f73-4e00-de2c-b6ed7624bc47"
      },
      "source": [
        "model = keras.Sequential([\n",
        "  keras.layers.Conv2D(128, kernel_size=(3,3), input_shape=(32,32,3), activation='elu', name='Conv1'),\n",
        "  keras.layers.Conv2D(128, kernel_size=(3,3), activation='elu', name='Conv2'),\n",
        "  keras.layers.MaxPool2D(pool_size=(2,2)),\n",
        "  keras.layers.Dropout(0.1),\n",
        "\n",
        "  keras.layers.Conv2D(256, kernel_size=(3,3), activation='elu', name='Conv3'),\n",
        "  keras.layers.Conv2D(256, kernel_size=(3,3), activation='elu', name='Conv4'),\n",
        "  keras.layers.MaxPool2D(pool_size=(2,2)),\n",
        "  keras.layers.Dropout(0.25),\n",
        "\n",
        "  keras.layers.Flatten(), \n",
        "\n",
        "  keras.layers.Dense(1024, activation='elu'),\n",
        "  keras.layers.Dropout(0.5),\n",
        "  keras.layers.Dense(100, activation=tf.nn.softmax, name='Softmax')\n",
        "])\n",
        "model.summary()\n",
        "\n",
        "testing = False\n",
        "epochs = 15\n",
        "\n",
        "model.compile(optimizer='adam', \n",
        "              loss='sparse_categorical_crossentropy',\n",
        "              metrics=['accuracy'],)\n",
        "\n",
        "model.fit(train_images, train_labels, epochs=epochs)\n",
        "\n",
        "test_loss, test_acc = model.evaluate(test_images, test_labels,)\n",
        "print('\\nTest accuracy: {}'.format(test_acc))"
      ],
      "execution_count": 21,
      "outputs": [
        {
          "output_type": "stream",
          "text": [
            "Model: \"sequential_17\"\n",
            "_________________________________________________________________\n",
            "Layer (type)                 Output Shape              Param #   \n",
            "=================================================================\n",
            "Conv1 (Conv2D)               (None, 30, 30, 128)       3584      \n",
            "_________________________________________________________________\n",
            "Conv2 (Conv2D)               (None, 28, 28, 128)       147584    \n",
            "_________________________________________________________________\n",
            "max_pooling2d_35 (MaxPooling (None, 14, 14, 128)       0         \n",
            "_________________________________________________________________\n",
            "dropout_55 (Dropout)         (None, 14, 14, 128)       0         \n",
            "_________________________________________________________________\n",
            "Conv3 (Conv2D)               (None, 12, 12, 256)       295168    \n",
            "_________________________________________________________________\n",
            "Conv4 (Conv2D)               (None, 10, 10, 256)       590080    \n",
            "_________________________________________________________________\n",
            "max_pooling2d_36 (MaxPooling (None, 5, 5, 256)         0         \n",
            "_________________________________________________________________\n",
            "dropout_56 (Dropout)         (None, 5, 5, 256)         0         \n",
            "_________________________________________________________________\n",
            "flatten_17 (Flatten)         (None, 6400)              0         \n",
            "_________________________________________________________________\n",
            "dense_21 (Dense)             (None, 1024)              6554624   \n",
            "_________________________________________________________________\n",
            "dropout_57 (Dropout)         (None, 1024)              0         \n",
            "_________________________________________________________________\n",
            "Softmax (Dense)              (None, 100)               102500    \n",
            "=================================================================\n",
            "Total params: 7,693,540\n",
            "Trainable params: 7,693,540\n",
            "Non-trainable params: 0\n",
            "_________________________________________________________________\n",
            "Epoch 1/15\n",
            "1563/1563 [==============================] - 161s 103ms/step - loss: 3.7483 - accuracy: 0.1548\n",
            "Epoch 2/15\n",
            "1563/1563 [==============================] - 161s 103ms/step - loss: 3.2999 - accuracy: 0.2370\n",
            "Epoch 3/15\n",
            "1563/1563 [==============================] - 161s 103ms/step - loss: 3.1740 - accuracy: 0.2684\n",
            "Epoch 4/15\n",
            "1563/1563 [==============================] - 161s 103ms/step - loss: 3.0886 - accuracy: 0.2950\n",
            "Epoch 5/15\n",
            "1563/1563 [==============================] - 161s 103ms/step - loss: 3.1037 - accuracy: 0.3031\n",
            "Epoch 6/15\n",
            "1563/1563 [==============================] - 160s 102ms/step - loss: 3.0789 - accuracy: 0.3205\n",
            "Epoch 7/15\n",
            "1563/1563 [==============================] - 161s 103ms/step - loss: 3.0499 - accuracy: 0.3363\n",
            "Epoch 8/15\n",
            "1563/1563 [==============================] - 160s 102ms/step - loss: 3.0405 - accuracy: 0.3469\n",
            "Epoch 9/15\n",
            "1563/1563 [==============================] - 161s 103ms/step - loss: 3.1112 - accuracy: 0.3510\n",
            "Epoch 10/15\n",
            "1563/1563 [==============================] - 161s 103ms/step - loss: 3.0993 - accuracy: 0.3603\n",
            "Epoch 11/15\n",
            "1563/1563 [==============================] - 161s 103ms/step - loss: 3.1642 - accuracy: 0.3599\n",
            "Epoch 12/15\n",
            "1563/1563 [==============================] - 161s 103ms/step - loss: 3.1864 - accuracy: 0.3659\n",
            "Epoch 13/15\n",
            "1563/1563 [==============================] - 162s 103ms/step - loss: 3.2483 - accuracy: 0.3616\n",
            "Epoch 14/15\n",
            "1563/1563 [==============================] - 162s 104ms/step - loss: 3.2422 - accuracy: 0.3709\n",
            "Epoch 15/15\n",
            "1563/1563 [==============================] - 160s 103ms/step - loss: 3.2799 - accuracy: 0.3717\n",
            "313/313 [==============================] - 7s 23ms/step - loss: 3.5292 - accuracy: 0.3245\n",
            "\n",
            "Test accuracy: 0.3244999945163727\n"
          ],
          "name": "stdout"
        }
      ]
    },
    {
      "cell_type": "code",
      "metadata": {
        "id": "F3Ksgc3OjygQ",
        "colab_type": "code",
        "colab": {
          "base_uri": "https://localhost:8080/",
          "height": 34
        },
        "outputId": "0c396598-1c1c-4b6b-ece2-102e08b49deb"
      },
      "source": [
        "import numpy as np \n",
        "\n",
        "test_data = np.load(\"cifar100_test.npy\")\n",
        "\n",
        "test_data = test_data / 255.0\n",
        "\n",
        "\n",
        "test_data = test_data.reshape(test_data.shape[0], 32, 32, 3)\n",
        "\n",
        "\n",
        "print('test_data.shape: {}, of {}'.format(test_data.shape, test_data.dtype))\n",
        "\n",
        "predictions = model.predict(test_data)\n",
        "\n",
        "output = np.array(np.argmax(predictions[0]), dtype=np.float64)\n",
        "\n",
        "for i in range(1, predictions.shape[0]):\n",
        "  output = np.append(output, np.argmax(predictions[i]))\n",
        "\n",
        "\n",
        "import pandas as pd\n",
        "from google.colab import files\n",
        "\n",
        "df = pd.DataFrame(output, columns=[\"Category\"])\n",
        "df.index.name = \"Id\"\n",
        "df.to_csv('predictions_1.csv')\n",
        "files.download('predictions_1.csv')"
      ],
      "execution_count": 22,
      "outputs": [
        {
          "output_type": "stream",
          "text": [
            "test_data.shape: (10000, 32, 32, 3), of float64\n"
          ],
          "name": "stdout"
        }
      ]
    }
  ]
}